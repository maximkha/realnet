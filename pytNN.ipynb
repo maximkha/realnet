{
 "metadata": {
  "language_info": {
   "codemirror_mode": {
    "name": "ipython",
    "version": 3
   },
   "file_extension": ".py",
   "mimetype": "text/x-python",
   "name": "python",
   "nbconvert_exporter": "python",
   "pygments_lexer": "ipython3",
   "version": "3.8.5-final"
  },
  "orig_nbformat": 2,
  "kernelspec": {
   "name": "python3",
   "display_name": "Python 3.8.5 64-bit",
   "metadata": {
    "interpreter": {
     "hash": "c4a6cc1c2df5ddd62d6925b2a7bdee9abacf912eab37272999970e810b9642fd"
    }
   }
  }
 },
 "nbformat": 4,
 "nbformat_minor": 2,
 "cells": [
  {
   "cell_type": "code",
   "execution_count": 28,
   "metadata": {},
   "outputs": [
    {
     "output_type": "execute_result",
     "data": {
      "text/plain": [
       "<torch._C.Generator at 0x271cb561250>"
      ]
     },
     "metadata": {},
     "execution_count": 28
    }
   ],
   "source": [
    "import torch\n",
    "from torch.autograd import Variable\n",
    "import torch.nn as nn\n",
    "import torch.nn.functional as F\n",
    "import torch.optim as optim\n",
    "import numpy as np\n",
    "import matplotlib.pyplot as plt\n",
    "%matplotlib inline\n",
    "torch.manual_seed(2)"
   ]
  },
  {
   "cell_type": "code",
   "execution_count": 29,
   "metadata": {},
   "outputs": [],
   "source": [
    "X = torch.Tensor([[0,0],[0,1], [1,0], [1,1]])\n",
    "Y = torch.Tensor([0,1,1,0]).view(-1,1)"
   ]
  },
  {
   "cell_type": "code",
   "execution_count": 30,
   "metadata": {},
   "outputs": [],
   "source": [
    "class XOR(nn.Module):\n",
    "    def __init__(self, input_dim = 2, output_dim=1):\n",
    "        super(XOR, self).__init__()\n",
    "        self.lin1 = nn.Linear(input_dim, 2)\n",
    "        self.lin2 = nn.Linear(2, output_dim)\n",
    "    \n",
    "    def forward(self, x):\n",
    "        x = self.lin1(x)\n",
    "        x = F.relu(x)\n",
    "        x = self.lin2(x)\n",
    "        return x"
   ]
  },
  {
   "cell_type": "code",
   "execution_count": 31,
   "metadata": {},
   "outputs": [],
   "source": [
    "model = XOR()"
   ]
  },
  {
   "cell_type": "code",
   "execution_count": 32,
   "metadata": {},
   "outputs": [],
   "source": [
    "def weights_init(model):\n",
    "    for m in model.modules():\n",
    "        if isinstance(m, nn.Linear):\n",
    "            # initialize the weight tensor, here we use a normal distribution\n",
    "            m.weight.data.normal_(0, 1)\n",
    "\n",
    "weights_init(model)"
   ]
  },
  {
   "cell_type": "code",
   "execution_count": 33,
   "metadata": {},
   "outputs": [],
   "source": [
    "loss_func = nn.MSELoss()"
   ]
  },
  {
   "cell_type": "code",
   "execution_count": 34,
   "metadata": {},
   "outputs": [],
   "source": [
    "optimizer = optim.Adam(model.parameters(), lr=0.0001)"
   ]
  },
  {
   "cell_type": "code",
   "execution_count": 35,
   "metadata": {},
   "outputs": [
    {
     "output_type": "stream",
     "name": "stdout",
     "text": [
      "Epoch: 0, Loss: 3.9081850051879883, \n",
      "Epoch: 500, Loss: 0.48008671402931213, \n"
     ]
    }
   ],
   "source": [
    "epochs = 501\n",
    "steps = X.size(0)\n",
    "for i in range(epochs):\n",
    "    for j in range(steps):\n",
    "        data_point = np.random.randint(X.size(0))\n",
    "        x_var = Variable(X[data_point], requires_grad=False)\n",
    "        y_var = Variable(Y[data_point], requires_grad=False)\n",
    "        \n",
    "        optimizer.zero_grad()\n",
    "        y_hat = model(x_var)\n",
    "        loss = loss_func.forward(y_hat, y_var)\n",
    "        loss.backward()\n",
    "        optimizer.step()\n",
    "        \n",
    "    if i % 500 == 0:\n",
    "        print(\"Epoch: {0}, Loss: {1}, \".format(i, loss.data.numpy()))"
   ]
  },
  {
   "cell_type": "code",
   "execution_count": 36,
   "metadata": {},
   "outputs": [],
   "source": [
    "model_params = list(model.parameters())"
   ]
  },
  {
   "cell_type": "code",
   "execution_count": 37,
   "metadata": {},
   "outputs": [
    {
     "output_type": "execute_result",
     "data": {
      "text/plain": [
       "[Parameter containing:\n",
       " tensor([[-0.7597,  0.1095],\n",
       "         [-0.2778,  1.3317]], requires_grad=True),\n",
       " Parameter containing:\n",
       " tensor([0.2041, 0.0415], requires_grad=True),\n",
       " Parameter containing:\n",
       " tensor([[-1.1438, -1.3773]], requires_grad=True),\n",
       " Parameter containing:\n",
       " tensor([0.3072], requires_grad=True)]"
      ]
     },
     "metadata": {},
     "execution_count": 37
    }
   ],
   "source": [
    "model_params"
   ]
  },
  {
   "cell_type": "code",
   "execution_count": null,
   "metadata": {},
   "outputs": [],
   "source": []
  }
 ]
}